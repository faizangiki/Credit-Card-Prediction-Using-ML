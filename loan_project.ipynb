{
 "cells": [
  {
   "cell_type": "code",
   "execution_count": 136,
   "metadata": {},
   "outputs": [
    {
     "data": {
      "text/html": [
       "<div>\n",
       "<style scoped>\n",
       "    .dataframe tbody tr th:only-of-type {\n",
       "        vertical-align: middle;\n",
       "    }\n",
       "\n",
       "    .dataframe tbody tr th {\n",
       "        vertical-align: top;\n",
       "    }\n",
       "\n",
       "    .dataframe thead th {\n",
       "        text-align: right;\n",
       "    }\n",
       "</style>\n",
       "<table border=\"1\" class=\"dataframe\">\n",
       "  <thead>\n",
       "    <tr style=\"text-align: right;\">\n",
       "      <th></th>\n",
       "      <th>clientid</th>\n",
       "      <th>income</th>\n",
       "      <th>age</th>\n",
       "      <th>loan</th>\n",
       "      <th>loan_to_income</th>\n",
       "      <th>known_value</th>\n",
       "    </tr>\n",
       "  </thead>\n",
       "  <tbody>\n",
       "    <tr>\n",
       "      <th>0</th>\n",
       "      <td>1</td>\n",
       "      <td>66155.92510</td>\n",
       "      <td>59.017015</td>\n",
       "      <td>8106.532131</td>\n",
       "      <td>0.122537</td>\n",
       "      <td>0</td>\n",
       "    </tr>\n",
       "    <tr>\n",
       "      <th>1</th>\n",
       "      <td>2</td>\n",
       "      <td>34415.15397</td>\n",
       "      <td>48.117153</td>\n",
       "      <td>6564.745018</td>\n",
       "      <td>0.190752</td>\n",
       "      <td>0</td>\n",
       "    </tr>\n",
       "    <tr>\n",
       "      <th>2</th>\n",
       "      <td>3</td>\n",
       "      <td>57317.17006</td>\n",
       "      <td>63.108049</td>\n",
       "      <td>8020.953296</td>\n",
       "      <td>0.139940</td>\n",
       "      <td>0</td>\n",
       "    </tr>\n",
       "    <tr>\n",
       "      <th>3</th>\n",
       "      <td>4</td>\n",
       "      <td>42709.53420</td>\n",
       "      <td>45.751972</td>\n",
       "      <td>6103.642260</td>\n",
       "      <td>0.142911</td>\n",
       "      <td>0</td>\n",
       "    </tr>\n",
       "    <tr>\n",
       "      <th>4</th>\n",
       "      <td>5</td>\n",
       "      <td>66952.68885</td>\n",
       "      <td>18.584336</td>\n",
       "      <td>8770.099235</td>\n",
       "      <td>0.130990</td>\n",
       "      <td>1</td>\n",
       "    </tr>\n",
       "  </tbody>\n",
       "</table>\n",
       "</div>"
      ],
      "text/plain": [
       "   clientid       income        age         loan  loan_to_income  known_value\n",
       "0         1  66155.92510  59.017015  8106.532131        0.122537            0\n",
       "1         2  34415.15397  48.117153  6564.745018        0.190752            0\n",
       "2         3  57317.17006  63.108049  8020.953296        0.139940            0\n",
       "3         4  42709.53420  45.751972  6103.642260        0.142911            0\n",
       "4         5  66952.68885  18.584336  8770.099235        0.130990            1"
      ]
     },
     "execution_count": 136,
     "metadata": {},
     "output_type": "execute_result"
    }
   ],
   "source": [
    "import pandas as pd\n",
    "credit_data=pd.read_csv('credit_data.csv')\n",
    "credit_data.head()"
   ]
  },
  {
   "cell_type": "code",
   "execution_count": 137,
   "metadata": {},
   "outputs": [],
   "source": [
    "x=credit_card.iloc[:, 1:4].values\n",
    "y = credit_card.iloc[:,5].values"
   ]
  },
  {
   "cell_type": "code",
   "execution_count": 138,
   "metadata": {},
   "outputs": [],
   "source": [
    "from sklearn.preprocessing import MinMaxScaler\n",
    "scaler = MinMaxScaler()\n",
    "scaler.fit(x)\n",
    "x_scaled=scaler.transform(x)"
   ]
  },
  {
   "cell_type": "code",
   "execution_count": 139,
   "metadata": {},
   "outputs": [
    {
     "data": {
      "text/plain": [
       "array([[0.9231759 , 0.89209175, 0.58883739],\n",
       "       [0.28812165, 0.65470788, 0.47682695],\n",
       "       [0.74633429, 0.9811888 , 0.58262011],\n",
       "       ...,\n",
       "       [0.48612202, 0.21695807, 0.40112895],\n",
       "       [0.47500998, 1.        , 0.1177903 ],\n",
       "       [0.98881367, 0.82970913, 0.53597028]])"
      ]
     },
     "execution_count": 139,
     "metadata": {},
     "output_type": "execute_result"
    }
   ],
   "source": [
    "x_scaled"
   ]
  },
  {
   "cell_type": "code",
   "execution_count": 140,
   "metadata": {},
   "outputs": [],
   "source": [
    "from sklearn.model_selection import train_test_split\n",
    "train_ratio = 0.70\n",
    "validation_ratio = 0.10\n",
    "test_ratio = 0.20\n",
    "\n",
    "# train is now 75% of the entire data set\n",
    "# the _junk suffix means that we drop that variable completely\n",
    "x_train, x_test, y_train, y_test = train_test_split(x_scaled, y, test_size=1 - train_ratio)\n",
    "\n",
    "# test is now 10% of the initial data set\n",
    "# validation is now 15% of the initial data set\n",
    "x_val, x_test, y_val, y_test = train_test_split(x_test, y_test, test_size=test_ratio/(test_ratio + validation_ratio)) \n"
   ]
  },
  {
   "cell_type": "code",
   "execution_count": 141,
   "metadata": {},
   "outputs": [],
   "source": [
    "# import keras library and packages\n",
    "# Initializing the ANN\n",
    "# Adding the input layer and the first hidden layer\n",
    "# Adding second hidden layer\n",
    "# Adding output layer\n",
    "# Compiling the ANN\n",
    "import keras\n",
    "from keras.models import Sequential\n",
    "from keras.layers import Dense\n",
    "model = Sequential()\n",
    "model.add(Dense(units = 5,activation = 'sigmoid', input_dim = 3))\n",
    "model.add(Dense(units = 1, activation = 'sigmoid'))\n",
    "model.compile(optimizer = 'adam', loss = 'binary_crossentropy', metrics = ['accuracy'])"
   ]
  },
  {
   "cell_type": "code",
   "execution_count": 142,
   "metadata": {},
   "outputs": [
    {
     "name": "stdout",
     "output_type": "stream",
     "text": [
      "Train on 1399 samples, validate on 200 samples\n",
      "Epoch 1/100\n",
      "1399/1399 [==============================] - 3s 2ms/step - loss: 0.6149 - accuracy: 0.6769 - val_loss: 0.4750 - val_accuracy: 0.8550\n",
      "Epoch 2/100\n",
      "1399/1399 [==============================] - 2s 1ms/step - loss: 0.4328 - accuracy: 0.8585 - val_loss: 0.4155 - val_accuracy: 0.8550\n",
      "Epoch 3/100\n",
      "1399/1399 [==============================] - 2s 1ms/step - loss: 0.4013 - accuracy: 0.8585 - val_loss: 0.4018 - val_accuracy: 0.8550\n",
      "Epoch 4/100\n",
      "1399/1399 [==============================] - 2s 1ms/step - loss: 0.3920 - accuracy: 0.8585 - val_loss: 0.3951 - val_accuracy: 0.8550\n",
      "Epoch 5/100\n",
      "1399/1399 [==============================] - 2s 1ms/step - loss: 0.3853 - accuracy: 0.8585 - val_loss: 0.3886 - val_accuracy: 0.8550\n",
      "Epoch 6/100\n",
      "1399/1399 [==============================] - 2s 2ms/step - loss: 0.3784 - accuracy: 0.8585 - val_loss: 0.3816 - val_accuracy: 0.8550\n",
      "Epoch 7/100\n",
      "1399/1399 [==============================] - 2s 1ms/step - loss: 0.3710 - accuracy: 0.8585 - val_loss: 0.3740 - val_accuracy: 0.8550\n",
      "Epoch 8/100\n",
      "1399/1399 [==============================] - 2s 2ms/step - loss: 0.3630 - accuracy: 0.8585 - val_loss: 0.3657 - val_accuracy: 0.8550\n",
      "Epoch 9/100\n",
      "1399/1399 [==============================] - 2s 2ms/step - loss: 0.3540 - accuracy: 0.8585 - val_loss: 0.3563 - val_accuracy: 0.8550\n",
      "Epoch 10/100\n",
      "1399/1399 [==============================] - 2s 2ms/step - loss: 0.3442 - accuracy: 0.8585 - val_loss: 0.3459 - val_accuracy: 0.8550\n",
      "Epoch 11/100\n",
      "1399/1399 [==============================] - 2s 1ms/step - loss: 0.3333 - accuracy: 0.8585 - val_loss: 0.3348 - val_accuracy: 0.8550\n",
      "Epoch 12/100\n",
      "1399/1399 [==============================] - 2s 2ms/step - loss: 0.3215 - accuracy: 0.8585 - val_loss: 0.3227 - val_accuracy: 0.8550\n",
      "Epoch 13/100\n",
      "1399/1399 [==============================] - 2s 1ms/step - loss: 0.3094 - accuracy: 0.8585 - val_loss: 0.3102 - val_accuracy: 0.8550\n",
      "Epoch 14/100\n",
      "1399/1399 [==============================] - 2s 1ms/step - loss: 0.2965 - accuracy: 0.8585 - val_loss: 0.2976 - val_accuracy: 0.8550\n",
      "Epoch 15/100\n",
      "1399/1399 [==============================] - 2s 2ms/step - loss: 0.2840 - accuracy: 0.8585 - val_loss: 0.2855 - val_accuracy: 0.8550\n",
      "Epoch 16/100\n",
      "1399/1399 [==============================] - 2s 2ms/step - loss: 0.2721 - accuracy: 0.8656 - val_loss: 0.2731 - val_accuracy: 0.8550\n",
      "Epoch 17/100\n",
      "1399/1399 [==============================] - 2s 2ms/step - loss: 0.2610 - accuracy: 0.8721 - val_loss: 0.2624 - val_accuracy: 0.8700\n",
      "Epoch 18/100\n",
      "1399/1399 [==============================] - 2s 1ms/step - loss: 0.2506 - accuracy: 0.8799 - val_loss: 0.2524 - val_accuracy: 0.8800\n",
      "Epoch 19/100\n",
      "1399/1399 [==============================] - 2s 1ms/step - loss: 0.2414 - accuracy: 0.8906 - val_loss: 0.2424 - val_accuracy: 0.8800\n",
      "Epoch 20/100\n",
      "1399/1399 [==============================] - 3s 2ms/step - loss: 0.2327 - accuracy: 0.8921 - val_loss: 0.2340 - val_accuracy: 0.9050\n",
      "Epoch 21/100\n",
      "1399/1399 [==============================] - 2s 2ms/step - loss: 0.2249 - accuracy: 0.8985 - val_loss: 0.2262 - val_accuracy: 0.9250\n",
      "Epoch 22/100\n",
      "1399/1399 [==============================] - 3s 2ms/step - loss: 0.2180 - accuracy: 0.9035 - val_loss: 0.2186 - val_accuracy: 0.9250\n",
      "Epoch 23/100\n",
      "1399/1399 [==============================] - 2s 2ms/step - loss: 0.2115 - accuracy: 0.9114 - val_loss: 0.2113 - val_accuracy: 0.9300\n",
      "Epoch 24/100\n",
      "1399/1399 [==============================] - 3s 2ms/step - loss: 0.2056 - accuracy: 0.9142 - val_loss: 0.2058 - val_accuracy: 0.9400\n",
      "Epoch 25/100\n",
      "1399/1399 [==============================] - 3s 2ms/step - loss: 0.2004 - accuracy: 0.9214 - val_loss: 0.1991 - val_accuracy: 0.9350\n",
      "Epoch 26/100\n",
      "1399/1399 [==============================] - 2s 1ms/step - loss: 0.1959 - accuracy: 0.9221 - val_loss: 0.1942 - val_accuracy: 0.9400\n",
      "Epoch 27/100\n",
      "1399/1399 [==============================] - 2s 1ms/step - loss: 0.1913 - accuracy: 0.9249 - val_loss: 0.1899 - val_accuracy: 0.9350\n",
      "Epoch 28/100\n",
      "1399/1399 [==============================] - 2s 1ms/step - loss: 0.1871 - accuracy: 0.9278 - val_loss: 0.1864 - val_accuracy: 0.9450\n",
      "Epoch 29/100\n",
      "1399/1399 [==============================] - 1s 889us/step - loss: 0.1837 - accuracy: 0.9278 - val_loss: 0.1820 - val_accuracy: 0.9450\n",
      "Epoch 30/100\n",
      "1399/1399 [==============================] - 2s 1ms/step - loss: 0.1800 - accuracy: 0.9307 - val_loss: 0.1764 - val_accuracy: 0.9400\n",
      "Epoch 31/100\n",
      "1399/1399 [==============================] - 3s 2ms/step - loss: 0.1771 - accuracy: 0.9299 - val_loss: 0.1730 - val_accuracy: 0.9400\n",
      "Epoch 32/100\n",
      "1399/1399 [==============================] - 3s 2ms/step - loss: 0.1740 - accuracy: 0.9328 - val_loss: 0.1703 - val_accuracy: 0.9500\n",
      "Epoch 33/100\n",
      "1399/1399 [==============================] - 2s 2ms/step - loss: 0.1713 - accuracy: 0.9271 - val_loss: 0.1665 - val_accuracy: 0.9450\n",
      "Epoch 34/100\n",
      "1399/1399 [==============================] - 3s 2ms/step - loss: 0.1690 - accuracy: 0.9285 - val_loss: 0.1638 - val_accuracy: 0.9500\n",
      "Epoch 35/100\n",
      "1399/1399 [==============================] - 3s 2ms/step - loss: 0.1666 - accuracy: 0.9299 - val_loss: 0.1618 - val_accuracy: 0.9550\n",
      "Epoch 36/100\n",
      "1399/1399 [==============================] - 3s 2ms/step - loss: 0.1644 - accuracy: 0.9278 - val_loss: 0.1587 - val_accuracy: 0.9550\n",
      "Epoch 37/100\n",
      "1399/1399 [==============================] - 3s 2ms/step - loss: 0.1625 - accuracy: 0.9271 - val_loss: 0.1564 - val_accuracy: 0.9550\n",
      "Epoch 38/100\n",
      "1399/1399 [==============================] - 3s 2ms/step - loss: 0.1603 - accuracy: 0.9278 - val_loss: 0.1540 - val_accuracy: 0.9550\n",
      "Epoch 39/100\n",
      "1399/1399 [==============================] - 3s 2ms/step - loss: 0.1585 - accuracy: 0.9307 - val_loss: 0.1526 - val_accuracy: 0.9500\n",
      "Epoch 40/100\n",
      "1399/1399 [==============================] - 3s 2ms/step - loss: 0.1567 - accuracy: 0.9321 - val_loss: 0.1499 - val_accuracy: 0.9550\n",
      "Epoch 41/100\n",
      "1399/1399 [==============================] - 4s 3ms/step - loss: 0.1555 - accuracy: 0.9328 - val_loss: 0.1484 - val_accuracy: 0.9500\n",
      "Epoch 42/100\n",
      "1399/1399 [==============================] - 2s 1ms/step - loss: 0.1538 - accuracy: 0.9342 - val_loss: 0.1463 - val_accuracy: 0.9500\n",
      "Epoch 43/100\n",
      "1399/1399 [==============================] - 3s 2ms/step - loss: 0.1523 - accuracy: 0.9342 - val_loss: 0.1450 - val_accuracy: 0.9550\n",
      "Epoch 44/100\n",
      "1399/1399 [==============================] - 4s 3ms/step - loss: 0.1508 - accuracy: 0.9335 - val_loss: 0.1436 - val_accuracy: 0.9500\n",
      "Epoch 45/100\n",
      "1399/1399 [==============================] - 3s 2ms/step - loss: 0.1499 - accuracy: 0.9342 - val_loss: 0.1421 - val_accuracy: 0.9500\n",
      "Epoch 46/100\n",
      "1399/1399 [==============================] - 2s 2ms/step - loss: 0.1484 - accuracy: 0.9364 - val_loss: 0.1410 - val_accuracy: 0.9500\n",
      "Epoch 47/100\n",
      "1399/1399 [==============================] - 3s 2ms/step - loss: 0.1473 - accuracy: 0.9378 - val_loss: 0.1399 - val_accuracy: 0.9500\n",
      "Epoch 48/100\n",
      "1399/1399 [==============================] - 2s 1ms/step - loss: 0.1460 - accuracy: 0.9342 - val_loss: 0.1381 - val_accuracy: 0.9500\n",
      "Epoch 49/100\n",
      "1399/1399 [==============================] - 3s 2ms/step - loss: 0.1451 - accuracy: 0.9357 - val_loss: 0.1372 - val_accuracy: 0.9500\n",
      "Epoch 50/100\n",
      "1399/1399 [==============================] - 2s 1ms/step - loss: 0.1440 - accuracy: 0.9371 - val_loss: 0.1360 - val_accuracy: 0.9500\n",
      "Epoch 51/100\n",
      "1399/1399 [==============================] - 3s 2ms/step - loss: 0.1433 - accuracy: 0.9357 - val_loss: 0.1351 - val_accuracy: 0.9500\n",
      "Epoch 52/100\n",
      "1399/1399 [==============================] - 3s 2ms/step - loss: 0.1423 - accuracy: 0.9371 - val_loss: 0.1346 - val_accuracy: 0.9450\n",
      "Epoch 53/100\n",
      "1399/1399 [==============================] - 2s 2ms/step - loss: 0.1416 - accuracy: 0.9371 - val_loss: 0.1344 - val_accuracy: 0.9450\n",
      "Epoch 54/100\n",
      "1399/1399 [==============================] - 4s 3ms/step - loss: 0.1404 - accuracy: 0.9371 - val_loss: 0.1324 - val_accuracy: 0.9450\n",
      "Epoch 55/100\n",
      "1399/1399 [==============================] - 2s 2ms/step - loss: 0.1398 - accuracy: 0.9392 - val_loss: 0.1321 - val_accuracy: 0.9450\n",
      "Epoch 56/100\n",
      "1399/1399 [==============================] - 2s 2ms/step - loss: 0.1393 - accuracy: 0.9392 - val_loss: 0.1309 - val_accuracy: 0.9450\n"
     ]
    },
    {
     "name": "stdout",
     "output_type": "stream",
     "text": [
      "Epoch 57/100\n",
      "1399/1399 [==============================] - 2s 1ms/step - loss: 0.1385 - accuracy: 0.9378 - val_loss: 0.1303 - val_accuracy: 0.9450\n",
      "Epoch 58/100\n",
      "1399/1399 [==============================] - 3s 2ms/step - loss: 0.1375 - accuracy: 0.9400 - val_loss: 0.1293 - val_accuracy: 0.9450\n",
      "Epoch 59/100\n",
      "1399/1399 [==============================] - 3s 2ms/step - loss: 0.1372 - accuracy: 0.9407 - val_loss: 0.1292 - val_accuracy: 0.9450\n",
      "Epoch 60/100\n",
      "1399/1399 [==============================] - 3s 2ms/step - loss: 0.1365 - accuracy: 0.9378 - val_loss: 0.1289 - val_accuracy: 0.9450\n",
      "Epoch 61/100\n",
      "1399/1399 [==============================] - 4s 3ms/step - loss: 0.1360 - accuracy: 0.9392 - val_loss: 0.1286 - val_accuracy: 0.9500\n",
      "Epoch 62/100\n",
      "1399/1399 [==============================] - 3s 2ms/step - loss: 0.1353 - accuracy: 0.9414 - val_loss: 0.1277 - val_accuracy: 0.9450\n",
      "Epoch 63/100\n",
      "1399/1399 [==============================] - 7s 5ms/step - loss: 0.1350 - accuracy: 0.9414 - val_loss: 0.1267 - val_accuracy: 0.94501s - l\n",
      "Epoch 64/100\n",
      "1399/1399 [==============================] - 5s 3ms/step - loss: 0.1343 - accuracy: 0.9400 - val_loss: 0.1259 - val_accuracy: 0.9450\n",
      "Epoch 65/100\n",
      "1399/1399 [==============================] - 4s 3ms/step - loss: 0.1340 - accuracy: 0.9421 - val_loss: 0.1258 - val_accuracy: 0.9450\n",
      "Epoch 66/100\n",
      "1399/1399 [==============================] - 3s 2ms/step - loss: 0.1336 - accuracy: 0.9407 - val_loss: 0.1260 - val_accuracy: 0.9500\n",
      "Epoch 67/100\n",
      "1399/1399 [==============================] - 4s 3ms/step - loss: 0.1330 - accuracy: 0.9414 - val_loss: 0.1250 - val_accuracy: 0.9500\n",
      "Epoch 68/100\n",
      "1399/1399 [==============================] - 3s 2ms/step - loss: 0.1326 - accuracy: 0.9428 - val_loss: 0.1252 - val_accuracy: 0.9500\n",
      "Epoch 69/100\n",
      "1399/1399 [==============================] - 4s 3ms/step - loss: 0.1322 - accuracy: 0.9407 - val_loss: 0.1243 - val_accuracy: 0.9500\n",
      "Epoch 70/100\n",
      "1399/1399 [==============================] - 4s 3ms/step - loss: 0.1314 - accuracy: 0.9414 - val_loss: 0.1260 - val_accuracy: 0.9450\n",
      "Epoch 71/100\n",
      "1399/1399 [==============================] - 4s 3ms/step - loss: 0.1317 - accuracy: 0.9428 - val_loss: 0.1242 - val_accuracy: 0.9500\n",
      "Epoch 72/100\n",
      "1399/1399 [==============================] - 2s 2ms/step - loss: 0.1313 - accuracy: 0.9435 - val_loss: 0.1240 - val_accuracy: 0.9500\n",
      "Epoch 73/100\n",
      "1399/1399 [==============================] - 2s 1ms/step - loss: 0.1308 - accuracy: 0.9442 - val_loss: 0.1235 - val_accuracy: 0.9500\n",
      "Epoch 74/100\n",
      "1399/1399 [==============================] - 2s 1ms/step - loss: 0.1301 - accuracy: 0.9414 - val_loss: 0.1248 - val_accuracy: 0.9450\n",
      "Epoch 75/100\n",
      "1399/1399 [==============================] - 2s 1ms/step - loss: 0.1303 - accuracy: 0.9442 - val_loss: 0.1234 - val_accuracy: 0.9450\n",
      "Epoch 76/100\n",
      "1399/1399 [==============================] - 2s 2ms/step - loss: 0.1299 - accuracy: 0.9442 - val_loss: 0.1236 - val_accuracy: 0.9450\n",
      "Epoch 77/100\n",
      "1399/1399 [==============================] - 2s 1ms/step - loss: 0.1295 - accuracy: 0.9457 - val_loss: 0.1219 - val_accuracy: 0.9500\n",
      "Epoch 78/100\n",
      "1399/1399 [==============================] - 2s 1ms/step - loss: 0.1292 - accuracy: 0.9421 - val_loss: 0.1232 - val_accuracy: 0.9450\n",
      "Epoch 79/100\n",
      "1399/1399 [==============================] - 2s 2ms/step - loss: 0.1291 - accuracy: 0.9442 - val_loss: 0.1215 - val_accuracy: 0.9500\n",
      "Epoch 80/100\n",
      "1399/1399 [==============================] - 2s 1ms/step - loss: 0.1287 - accuracy: 0.9450 - val_loss: 0.1213 - val_accuracy: 0.9500\n",
      "Epoch 81/100\n",
      "1399/1399 [==============================] - 2s 1ms/step - loss: 0.1283 - accuracy: 0.9421 - val_loss: 0.1224 - val_accuracy: 0.9450\n",
      "Epoch 82/100\n",
      "1399/1399 [==============================] - 2s 1ms/step - loss: 0.1284 - accuracy: 0.9457 - val_loss: 0.1221 - val_accuracy: 0.9450\n",
      "Epoch 83/100\n",
      "1399/1399 [==============================] - 2s 2ms/step - loss: 0.1280 - accuracy: 0.9421 - val_loss: 0.1207 - val_accuracy: 0.9450\n",
      "Epoch 84/100\n",
      "1399/1399 [==============================] - 2s 1ms/step - loss: 0.1281 - accuracy: 0.9442 - val_loss: 0.1206 - val_accuracy: 0.9450\n",
      "Epoch 85/100\n",
      "1399/1399 [==============================] - 2s 1ms/step - loss: 0.1281 - accuracy: 0.9435 - val_loss: 0.1207 - val_accuracy: 0.9500\n",
      "Epoch 86/100\n",
      "1399/1399 [==============================] - 2s 2ms/step - loss: 0.1274 - accuracy: 0.9414 - val_loss: 0.1216 - val_accuracy: 0.9450\n",
      "Epoch 87/100\n",
      "1399/1399 [==============================] - 2s 2ms/step - loss: 0.1272 - accuracy: 0.9450 - val_loss: 0.1211 - val_accuracy: 0.9450\n",
      "Epoch 88/100\n",
      "1399/1399 [==============================] - 2s 1ms/step - loss: 0.1271 - accuracy: 0.9457 - val_loss: 0.1215 - val_accuracy: 0.9500\n",
      "Epoch 89/100\n",
      "1399/1399 [==============================] - 2s 2ms/step - loss: 0.1272 - accuracy: 0.9442 - val_loss: 0.1206 - val_accuracy: 0.9450\n",
      "Epoch 90/100\n",
      "1399/1399 [==============================] - 2s 2ms/step - loss: 0.1268 - accuracy: 0.9450 - val_loss: 0.1206 - val_accuracy: 0.9450\n",
      "Epoch 91/100\n",
      "1399/1399 [==============================] - 2s 2ms/step - loss: 0.1267 - accuracy: 0.9421 - val_loss: 0.1207 - val_accuracy: 0.9500\n",
      "Epoch 92/100\n",
      "1399/1399 [==============================] - 2s 2ms/step - loss: 0.1266 - accuracy: 0.9450 - val_loss: 0.1207 - val_accuracy: 0.9500\n",
      "Epoch 93/100\n",
      "1399/1399 [==============================] - 2s 2ms/step - loss: 0.1262 - accuracy: 0.9435 - val_loss: 0.1196 - val_accuracy: 0.9450\n",
      "Epoch 94/100\n",
      "1399/1399 [==============================] - 2s 2ms/step - loss: 0.1262 - accuracy: 0.9435 - val_loss: 0.1198 - val_accuracy: 0.9450\n",
      "Epoch 95/100\n",
      "1399/1399 [==============================] - 3s 2ms/step - loss: 0.1260 - accuracy: 0.9428 - val_loss: 0.1198 - val_accuracy: 0.9500\n",
      "Epoch 96/100\n",
      "1399/1399 [==============================] - 2s 2ms/step - loss: 0.1261 - accuracy: 0.9428 - val_loss: 0.1206 - val_accuracy: 0.9500\n",
      "Epoch 97/100\n",
      "1399/1399 [==============================] - 2s 2ms/step - loss: 0.1260 - accuracy: 0.9428 - val_loss: 0.1197 - val_accuracy: 0.9500\n",
      "Epoch 98/100\n",
      "1399/1399 [==============================] - 2s 2ms/step - loss: 0.1258 - accuracy: 0.9435 - val_loss: 0.1194 - val_accuracy: 0.9450\n",
      "Epoch 99/100\n",
      "1399/1399 [==============================] - 3s 2ms/step - loss: 0.1254 - accuracy: 0.9435 - val_loss: 0.1188 - val_accuracy: 0.9450\n",
      "Epoch 100/100\n",
      "1399/1399 [==============================] - 3s 2ms/step - loss: 0.1256 - accuracy: 0.9435 - val_loss: 0.1194 - val_accuracy: 0.9450\n"
     ]
    }
   ],
   "source": [
    "# Fitting the ANN to the training set\n",
    "history=model.fit(x_train, y_train, validation_data=(x_val, y_val), batch_size = 4, epochs = 100)"
   ]
  },
  {
   "cell_type": "code",
   "execution_count": 145,
   "metadata": {},
   "outputs": [
    {
     "data": {
      "image/png": "[encoded data removed]",
      "text/plain": [
       "<Figure size 432x288 with 1 Axes>"
      ]
     },
     "metadata": {
      "needs_background": "light"
     },
     "output_type": "display_data"
    },
    {
     "data": {
      "image/png": "[encoded data removed]",
      "text/plain": [
       "<Figure size 432x288 with 1 Axes>"
      ]
     },
     "metadata": {
      "needs_background": "light"
     },
     "output_type": "display_data"
    }
   ],
   "source": [
    "import matplotlib.pyplot as plt\n",
    "plt.plot(history.history['accuracy'])\n",
    "plt.plot(history.history['val_accuracy'])\n",
    "plt.title('model accuracy')\n",
    "plt.ylabel('accuracy')\n",
    "plt.xlabel('epoch')\n",
    "plt.legend(['train', 'validation'], loc='upper left')\n",
    "plt.show()\n",
    "# \"Loss\"\n",
    "plt.plot(history.history['loss'])\n",
    "plt.plot(history.history['val_loss'])\n",
    "plt.title('model loss')\n",
    "plt.ylabel('loss')\n",
    "plt.xlabel('epoch')\n",
    "plt.legend(['train', 'validation'], loc='upper left')\n",
    "plt.show()"
   ]
  },
  {
   "cell_type": "code",
   "execution_count": 146,
   "metadata": {},
   "outputs": [
    {
     "data": {
      "text/plain": [
       "0.9476309226932669"
      ]
     },
     "execution_count": 146,
     "metadata": {},
     "output_type": "execute_result"
    }
   ],
   "source": [
    "test_predict=model.predict(x_test)\n",
    "#print(test_predict)\n",
    "test_predict = (test_predict > 0.5)\n",
    "from sklearn.metrics import confusion_matrix\n",
    "cm = confusion_matrix(y_test, test_predict)\n",
    "accuracy = (cm[0][0]+cm[1][1])/(cm[0][0]+cm[0][1]+cm[1][0]+cm[1][1])\n",
    "accuracy"
   ]
  },
  {
   "cell_type": "code",
   "execution_count": 147,
   "metadata": {},
   "outputs": [
    {
     "data": {
      "text/plain": [
       "0.945"
      ]
     },
     "execution_count": 147,
     "metadata": {},
     "output_type": "execute_result"
    }
   ],
   "source": [
    "val_predict=model.predict(x_val)\n",
    "#print(test_predict)\n",
    "val_predict = (val_predict > 0.5)\n",
    "from sklearn.metrics import confusion_matrix\n",
    "cm = confusion_matrix(y_val, val_predict)\n",
    "accuracy = (cm[0][0]+cm[1][1])/(cm[0][0]+cm[0][1]+cm[1][0]+cm[1][1])\n",
    "accuracy"
   ]
  },
  {
   "cell_type": "code",
   "execution_count": 155,
   "metadata": {},
   "outputs": [],
   "source": [
    "credit_data.to_csv('F:/Faizan/MyLoans.csv', encoding='utf-8', index=False)\n"
   ]
  },
  {
   "cell_type": "code",
   "execution_count": 156,
   "metadata": {},
   "outputs": [
    {
     "data": {
      "text/html": [
       "<div>\n",
       "<style scoped>\n",
       "    .dataframe tbody tr th:only-of-type {\n",
       "        vertical-align: middle;\n",
       "    }\n",
       "\n",
       "    .dataframe tbody tr th {\n",
       "        vertical-align: top;\n",
       "    }\n",
       "\n",
       "    .dataframe thead th {\n",
       "        text-align: right;\n",
       "    }\n",
       "</style>\n",
       "<table border=\"1\" class=\"dataframe\">\n",
       "  <thead>\n",
       "    <tr style=\"text-align: right;\">\n",
       "      <th></th>\n",
       "      <th>clientid</th>\n",
       "      <th>income</th>\n",
       "      <th>age</th>\n",
       "      <th>loan</th>\n",
       "      <th>loan_to_income</th>\n",
       "      <th>known_value</th>\n",
       "    </tr>\n",
       "  </thead>\n",
       "  <tbody>\n",
       "    <tr>\n",
       "      <th>0</th>\n",
       "      <td>1</td>\n",
       "      <td>66155.92510</td>\n",
       "      <td>59.017015</td>\n",
       "      <td>8106.532131</td>\n",
       "      <td>0.122537</td>\n",
       "      <td>0</td>\n",
       "    </tr>\n",
       "    <tr>\n",
       "      <th>1</th>\n",
       "      <td>2</td>\n",
       "      <td>34415.15397</td>\n",
       "      <td>48.117153</td>\n",
       "      <td>6564.745018</td>\n",
       "      <td>0.190752</td>\n",
       "      <td>0</td>\n",
       "    </tr>\n",
       "    <tr>\n",
       "      <th>2</th>\n",
       "      <td>3</td>\n",
       "      <td>57317.17006</td>\n",
       "      <td>63.108049</td>\n",
       "      <td>8020.953296</td>\n",
       "      <td>0.139940</td>\n",
       "      <td>0</td>\n",
       "    </tr>\n",
       "    <tr>\n",
       "      <th>3</th>\n",
       "      <td>4</td>\n",
       "      <td>42709.53420</td>\n",
       "      <td>45.751972</td>\n",
       "      <td>6103.642260</td>\n",
       "      <td>0.142911</td>\n",
       "      <td>0</td>\n",
       "    </tr>\n",
       "    <tr>\n",
       "      <th>4</th>\n",
       "      <td>5</td>\n",
       "      <td>66952.68885</td>\n",
       "      <td>18.584336</td>\n",
       "      <td>8770.099235</td>\n",
       "      <td>0.130990</td>\n",
       "      <td>1</td>\n",
       "    </tr>\n",
       "  </tbody>\n",
       "</table>\n",
       "</div>"
      ],
      "text/plain": [
       "   clientid       income        age         loan  loan_to_income  known_value\n",
       "0         1  66155.92510  59.017015  8106.532131        0.122537            0\n",
       "1         2  34415.15397  48.117153  6564.745018        0.190752            0\n",
       "2         3  57317.17006  63.108049  8020.953296        0.139940            0\n",
       "3         4  42709.53420  45.751972  6103.642260        0.142911            0\n",
       "4         5  66952.68885  18.584336  8770.099235        0.130990            1"
      ]
     },
     "execution_count": 156,
     "metadata": {},
     "output_type": "execute_result"
    }
   ],
   "source": [
    "loan_data=pd.read_csv('MyLoans.csv')\n",
    "loan_data.head()"
   ]
  },
  {
   "cell_type": "markdown",
   "metadata": {},
   "source": [
    "# Change the last five value of the know_value"
   ]
  },
  {
   "cell_type": "code",
   "execution_count": 173,
   "metadata": {},
   "outputs": [
    {
     "name": "stdout",
     "output_type": "stream",
     "text": [
      "2000\n"
     ]
    }
   ],
   "source": [
    "update_col=loan_data.iloc[:,5].values\n",
    "print(len(update_col))\n",
    "for i in range(len(update_col)):\n",
    "    if i > 1995:\n",
    "        update_col[i]=1;\n",
    "      "
   ]
  },
  {
   "cell_type": "markdown",
   "metadata": {},
   "source": [
    "# Change column name "
   ]
  },
  {
   "cell_type": "code",
   "execution_count": 174,
   "metadata": {},
   "outputs": [],
   "source": [
    "# Change column name \n",
    "loan_data = loan_data.rename(columns = {'income':'Inc','age':'atttained age','loan':'borrowed','loan_to_income':'redundant_feature','known_value':'answer'})"
   ]
  },
  {
   "cell_type": "code",
   "execution_count": 175,
   "metadata": {},
   "outputs": [
    {
     "data": {
      "text/html": [
       "<div>\n",
       "<style scoped>\n",
       "    .dataframe tbody tr th:only-of-type {\n",
       "        vertical-align: middle;\n",
       "    }\n",
       "\n",
       "    .dataframe tbody tr th {\n",
       "        vertical-align: top;\n",
       "    }\n",
       "\n",
       "    .dataframe thead th {\n",
       "        text-align: right;\n",
       "    }\n",
       "</style>\n",
       "<table border=\"1\" class=\"dataframe\">\n",
       "  <thead>\n",
       "    <tr style=\"text-align: right;\">\n",
       "      <th></th>\n",
       "      <th>clientid</th>\n",
       "      <th>Inc</th>\n",
       "      <th>atttained age</th>\n",
       "      <th>borrowed</th>\n",
       "      <th>redundant_feature</th>\n",
       "      <th>answer</th>\n",
       "    </tr>\n",
       "  </thead>\n",
       "  <tbody>\n",
       "    <tr>\n",
       "      <th>0</th>\n",
       "      <td>1</td>\n",
       "      <td>66155.92510</td>\n",
       "      <td>59.017015</td>\n",
       "      <td>8106.532131</td>\n",
       "      <td>0.122537</td>\n",
       "      <td>0</td>\n",
       "    </tr>\n",
       "    <tr>\n",
       "      <th>1</th>\n",
       "      <td>2</td>\n",
       "      <td>34415.15397</td>\n",
       "      <td>48.117153</td>\n",
       "      <td>6564.745018</td>\n",
       "      <td>0.190752</td>\n",
       "      <td>0</td>\n",
       "    </tr>\n",
       "    <tr>\n",
       "      <th>2</th>\n",
       "      <td>3</td>\n",
       "      <td>57317.17006</td>\n",
       "      <td>63.108049</td>\n",
       "      <td>8020.953296</td>\n",
       "      <td>0.139940</td>\n",
       "      <td>0</td>\n",
       "    </tr>\n",
       "    <tr>\n",
       "      <th>3</th>\n",
       "      <td>4</td>\n",
       "      <td>42709.53420</td>\n",
       "      <td>45.751972</td>\n",
       "      <td>6103.642260</td>\n",
       "      <td>0.142911</td>\n",
       "      <td>0</td>\n",
       "    </tr>\n",
       "    <tr>\n",
       "      <th>4</th>\n",
       "      <td>5</td>\n",
       "      <td>66952.68885</td>\n",
       "      <td>18.584336</td>\n",
       "      <td>8770.099235</td>\n",
       "      <td>0.130990</td>\n",
       "      <td>1</td>\n",
       "    </tr>\n",
       "    <tr>\n",
       "      <th>...</th>\n",
       "      <td>...</td>\n",
       "      <td>...</td>\n",
       "      <td>...</td>\n",
       "      <td>...</td>\n",
       "      <td>...</td>\n",
       "      <td>...</td>\n",
       "    </tr>\n",
       "    <tr>\n",
       "      <th>1995</th>\n",
       "      <td>1996</td>\n",
       "      <td>59221.04487</td>\n",
       "      <td>48.518179</td>\n",
       "      <td>1926.729397</td>\n",
       "      <td>0.032535</td>\n",
       "      <td>1</td>\n",
       "    </tr>\n",
       "    <tr>\n",
       "      <th>1996</th>\n",
       "      <td>1997</td>\n",
       "      <td>69516.12757</td>\n",
       "      <td>23.162104</td>\n",
       "      <td>3503.176156</td>\n",
       "      <td>0.050394</td>\n",
       "      <td>1</td>\n",
       "    </tr>\n",
       "    <tr>\n",
       "      <th>1997</th>\n",
       "      <td>1998</td>\n",
       "      <td>44311.44926</td>\n",
       "      <td>28.017167</td>\n",
       "      <td>5522.786693</td>\n",
       "      <td>0.124636</td>\n",
       "      <td>1</td>\n",
       "    </tr>\n",
       "    <tr>\n",
       "      <th>1998</th>\n",
       "      <td>1999</td>\n",
       "      <td>43756.05660</td>\n",
       "      <td>63.971796</td>\n",
       "      <td>1622.722598</td>\n",
       "      <td>0.037086</td>\n",
       "      <td>1</td>\n",
       "    </tr>\n",
       "    <tr>\n",
       "      <th>1999</th>\n",
       "      <td>2000</td>\n",
       "      <td>69436.57955</td>\n",
       "      <td>56.152617</td>\n",
       "      <td>7378.833599</td>\n",
       "      <td>0.106267</td>\n",
       "      <td>1</td>\n",
       "    </tr>\n",
       "  </tbody>\n",
       "</table>\n",
       "<p>2000 rows × 6 columns</p>\n",
       "</div>"
      ],
      "text/plain": [
       "      clientid          Inc  atttained age     borrowed  redundant_feature  \\\n",
       "0            1  66155.92510      59.017015  8106.532131           0.122537   \n",
       "1            2  34415.15397      48.117153  6564.745018           0.190752   \n",
       "2            3  57317.17006      63.108049  8020.953296           0.139940   \n",
       "3            4  42709.53420      45.751972  6103.642260           0.142911   \n",
       "4            5  66952.68885      18.584336  8770.099235           0.130990   \n",
       "...        ...          ...            ...          ...                ...   \n",
       "1995      1996  59221.04487      48.518179  1926.729397           0.032535   \n",
       "1996      1997  69516.12757      23.162104  3503.176156           0.050394   \n",
       "1997      1998  44311.44926      28.017167  5522.786693           0.124636   \n",
       "1998      1999  43756.05660      63.971796  1622.722598           0.037086   \n",
       "1999      2000  69436.57955      56.152617  7378.833599           0.106267   \n",
       "\n",
       "      answer  \n",
       "0          0  \n",
       "1          0  \n",
       "2          0  \n",
       "3          0  \n",
       "4          1  \n",
       "...      ...  \n",
       "1995       1  \n",
       "1996       1  \n",
       "1997       1  \n",
       "1998       1  \n",
       "1999       1  \n",
       "\n",
       "[2000 rows x 6 columns]"
      ]
     },
     "execution_count": 175,
     "metadata": {},
     "output_type": "execute_result"
    }
   ],
   "source": [
    "loan_data"
   ]
  },
  {
   "cell_type": "code",
   "execution_count": 176,
   "metadata": {},
   "outputs": [],
   "source": [
    "x=loan_data.iloc[:, 1:4].values\n",
    "y = update_col"
   ]
  },
  {
   "cell_type": "code",
   "execution_count": 177,
   "metadata": {},
   "outputs": [],
   "source": [
    "from sklearn.preprocessing import MinMaxScaler\n",
    "scaler = MinMaxScaler()\n",
    "scaler.fit(x)\n",
    "x_scaled=scaler.transform(x)"
   ]
  },
  {
   "cell_type": "code",
   "execution_count": 178,
   "metadata": {},
   "outputs": [],
   "source": [
    "from sklearn.model_selection import train_test_split\n",
    "train_ratio = 0.70\n",
    "validation_ratio = 0.10\n",
    "test_ratio = 0.20\n",
    "\n",
    "# train is now 75% of the entire data set\n",
    "# the _junk suffix means that we drop that variable completely\n",
    "x_train, x_test, y_train, y_test = train_test_split(x_scaled, y, test_size=1 - train_ratio)\n",
    "\n",
    "# test is now 10% of the initial data set\n",
    "# validation is now 15% of the initial data set\n",
    "x_val, x_test, y_val, y_test = train_test_split(x_test, y_test, test_size=test_ratio/(test_ratio + validation_ratio)) \n"
   ]
  },
  {
   "cell_type": "code",
   "execution_count": 182,
   "metadata": {},
   "outputs": [],
   "source": [
    "# import keras library and packages\n",
    "# Initializing the ANN\n",
    "# Adding the input layer and the first hidden layer\n",
    "# Adding second hidden layer\n",
    "# Adding output layer\n",
    "# Compiling the ANN\n",
    "import keras\n",
    "from keras.models import Sequential\n",
    "from keras.layers import Dense\n",
    "model2 = Sequential()\n",
    "model2.add(Dense(units = 5,activation = 'sigmoid', input_dim = 3))\n",
    "model2.add(Dense(units = 1, activation = 'sigmoid'))\n",
    "model2.compile(optimizer = 'adam', loss = 'binary_crossentropy', metrics = ['accuracy'])"
   ]
  },
  {
   "cell_type": "code",
   "execution_count": 183,
   "metadata": {},
   "outputs": [
    {
     "name": "stdout",
     "output_type": "stream",
     "text": [
      "Train on 1399 samples, validate on 200 samples\n",
      "Epoch 1/100\n",
      "1399/1399 [==============================] - 2s 1ms/step - loss: 0.5157 - accuracy: 0.8435 - val_loss: 0.4396 - val_accuracy: 0.8500\n",
      "Epoch 2/100\n",
      "1399/1399 [==============================] - 1s 1ms/step - loss: 0.4254 - accuracy: 0.8449 - val_loss: 0.4095 - val_accuracy: 0.8500\n",
      "Epoch 3/100\n",
      "1399/1399 [==============================] - 1s 937us/step - loss: 0.4091 - accuracy: 0.8449 - val_loss: 0.3970 - val_accuracy: 0.8500\n",
      "Epoch 4/100\n",
      "1399/1399 [==============================] - 2s 1ms/step - loss: 0.3983 - accuracy: 0.8449 - val_loss: 0.3858 - val_accuracy: 0.8500\n",
      "Epoch 5/100\n",
      "1399/1399 [==============================] - 1s 1ms/step - loss: 0.3864 - accuracy: 0.8449 - val_loss: 0.3739 - val_accuracy: 0.8500\n",
      "Epoch 6/100\n",
      "1399/1399 [==============================] - 1s 1ms/step - loss: 0.3740 - accuracy: 0.8449 - val_loss: 0.3616 - val_accuracy: 0.8500\n",
      "Epoch 7/100\n",
      "1399/1399 [==============================] - 2s 1ms/step - loss: 0.3615 - accuracy: 0.8449 - val_loss: 0.3484 - val_accuracy: 0.8500\n",
      "Epoch 8/100\n",
      "1399/1399 [==============================] - 1s 1ms/step - loss: 0.3485 - accuracy: 0.8449 - val_loss: 0.3352 - val_accuracy: 0.8500\n",
      "Epoch 9/100\n",
      "1399/1399 [==============================] - 2s 1ms/step - loss: 0.3358 - accuracy: 0.8449 - val_loss: 0.3224 - val_accuracy: 0.8500\n",
      "Epoch 10/100\n",
      "1399/1399 [==============================] - 2s 1ms/step - loss: 0.3232 - accuracy: 0.8449 - val_loss: 0.3100 - val_accuracy: 0.8500\n",
      "Epoch 11/100\n",
      "1399/1399 [==============================] - 2s 1ms/step - loss: 0.3113 - accuracy: 0.8456 - val_loss: 0.2982 - val_accuracy: 0.8500\n",
      "Epoch 12/100\n",
      "1399/1399 [==============================] - 1s 1ms/step - loss: 0.3004 - accuracy: 0.8513 - val_loss: 0.2872 - val_accuracy: 0.8650\n",
      "Epoch 13/100\n",
      "1399/1399 [==============================] - 1s 1ms/step - loss: 0.2895 - accuracy: 0.8549 - val_loss: 0.2772 - val_accuracy: 0.8750\n",
      "Epoch 14/100\n",
      "1399/1399 [==============================] - 2s 1ms/step - loss: 0.2799 - accuracy: 0.8699 - val_loss: 0.2676 - val_accuracy: 0.8800\n",
      "Epoch 15/100\n",
      "1399/1399 [==============================] - 2s 1ms/step - loss: 0.2709 - accuracy: 0.8756 - val_loss: 0.2589 - val_accuracy: 0.8800\n",
      "Epoch 16/100\n",
      "1399/1399 [==============================] - 2s 1ms/step - loss: 0.2625 - accuracy: 0.8821 - val_loss: 0.2511 - val_accuracy: 0.8850\n",
      "Epoch 17/100\n",
      "1399/1399 [==============================] - 2s 1ms/step - loss: 0.2556 - accuracy: 0.8813 - val_loss: 0.2438 - val_accuracy: 0.8950\n",
      "Epoch 18/100\n",
      "1399/1399 [==============================] - 3s 2ms/step - loss: 0.2483 - accuracy: 0.8885 - val_loss: 0.2374 - val_accuracy: 0.9050\n",
      "Epoch 19/100\n",
      "1399/1399 [==============================] - 3s 2ms/step - loss: 0.2422 - accuracy: 0.8978 - val_loss: 0.2312 - val_accuracy: 0.9100\n",
      "Epoch 20/100\n",
      "1399/1399 [==============================] - 2s 1ms/step - loss: 0.2367 - accuracy: 0.8999 - val_loss: 0.2258 - val_accuracy: 0.9150\n",
      "Epoch 21/100\n",
      "1399/1399 [==============================] - 2s 1ms/step - loss: 0.2314 - accuracy: 0.9042 - val_loss: 0.2207 - val_accuracy: 0.9250\n",
      "Epoch 22/100\n",
      "1399/1399 [==============================] - 3s 2ms/step - loss: 0.2267 - accuracy: 0.9078 - val_loss: 0.2161 - val_accuracy: 0.9250\n",
      "Epoch 23/100\n",
      "1399/1399 [==============================] - 3s 2ms/step - loss: 0.2227 - accuracy: 0.9071 - val_loss: 0.2119 - val_accuracy: 0.9350\n",
      "Epoch 24/100\n",
      "1399/1399 [==============================] - 3s 2ms/step - loss: 0.2182 - accuracy: 0.9107 - val_loss: 0.2079 - val_accuracy: 0.9350\n",
      "Epoch 25/100\n",
      "1399/1399 [==============================] - 2s 2ms/step - loss: 0.2143 - accuracy: 0.9085 - val_loss: 0.2045 - val_accuracy: 0.9350\n",
      "Epoch 26/100\n",
      "1399/1399 [==============================] - 2s 2ms/step - loss: 0.2113 - accuracy: 0.9164 - val_loss: 0.2007 - val_accuracy: 0.9400\n",
      "Epoch 27/100\n",
      "1399/1399 [==============================] - 3s 2ms/step - loss: 0.2078 - accuracy: 0.9157 - val_loss: 0.1973 - val_accuracy: 0.9400\n",
      "Epoch 28/100\n",
      "1399/1399 [==============================] - 3s 2ms/step - loss: 0.2046 - accuracy: 0.9185 - val_loss: 0.1942 - val_accuracy: 0.9400\n",
      "Epoch 29/100\n",
      "1399/1399 [==============================] - 3s 2ms/step - loss: 0.2020 - accuracy: 0.9185 - val_loss: 0.1913 - val_accuracy: 0.9350\n",
      "Epoch 30/100\n",
      "1399/1399 [==============================] - 1s 964us/step - loss: 0.1990 - accuracy: 0.9178 - val_loss: 0.1886 - val_accuracy: 0.9350\n",
      "Epoch 31/100\n",
      "1399/1399 [==============================] - 2s 1ms/step - loss: 0.1968 - accuracy: 0.9171 - val_loss: 0.1859 - val_accuracy: 0.9350\n",
      "Epoch 32/100\n",
      "1399/1399 [==============================] - 1s 862us/step - loss: 0.1945 - accuracy: 0.9171 - val_loss: 0.1834 - val_accuracy: 0.9400\n",
      "Epoch 33/100\n",
      "1399/1399 [==============================] - 1s 867us/step - loss: 0.1923 - accuracy: 0.9178 - val_loss: 0.1811 - val_accuracy: 0.9400\n",
      "Epoch 34/100\n",
      "1399/1399 [==============================] - 1s 868us/step - loss: 0.1901 - accuracy: 0.9171 - val_loss: 0.1789 - val_accuracy: 0.9400\n",
      "Epoch 35/100\n",
      "1399/1399 [==============================] - 1s 1ms/step - loss: 0.1883 - accuracy: 0.9164 - val_loss: 0.1769 - val_accuracy: 0.9400\n",
      "Epoch 36/100\n",
      "1399/1399 [==============================] - 2s 1ms/step - loss: 0.1866 - accuracy: 0.9157 - val_loss: 0.1749 - val_accuracy: 0.9400\n",
      "Epoch 37/100\n",
      "1399/1399 [==============================] - 2s 2ms/step - loss: 0.1848 - accuracy: 0.9199 - val_loss: 0.1732 - val_accuracy: 0.9450\n",
      "Epoch 38/100\n",
      "1399/1399 [==============================] - 2s 1ms/step - loss: 0.1833 - accuracy: 0.9178 - val_loss: 0.1713 - val_accuracy: 0.9450\n",
      "Epoch 39/100\n",
      "1399/1399 [==============================] - 2s 2ms/step - loss: 0.1816 - accuracy: 0.9157 - val_loss: 0.1696 - val_accuracy: 0.9450\n",
      "Epoch 40/100\n",
      "1399/1399 [==============================] - 2s 1ms/step - loss: 0.1802 - accuracy: 0.9171 - val_loss: 0.1680 - val_accuracy: 0.9500\n",
      "Epoch 41/100\n",
      "1399/1399 [==============================] - 3s 2ms/step - loss: 0.1788 - accuracy: 0.9192 - val_loss: 0.1665 - val_accuracy: 0.9450\n",
      "Epoch 42/100\n",
      "1399/1399 [==============================] - 3s 2ms/step - loss: 0.1775 - accuracy: 0.9221 - val_loss: 0.1652 - val_accuracy: 0.9450\n",
      "Epoch 43/100\n",
      "1399/1399 [==============================] - 3s 2ms/step - loss: 0.1763 - accuracy: 0.9221 - val_loss: 0.1637 - val_accuracy: 0.9550\n",
      "Epoch 44/100\n",
      "1399/1399 [==============================] - 3s 2ms/step - loss: 0.1753 - accuracy: 0.9221 - val_loss: 0.1624 - val_accuracy: 0.9550\n",
      "Epoch 45/100\n",
      "1399/1399 [==============================] - 2s 2ms/step - loss: 0.1743 - accuracy: 0.9242 - val_loss: 0.1612 - val_accuracy: 0.9500\n",
      "Epoch 46/100\n",
      "1399/1399 [==============================] - 2s 2ms/step - loss: 0.1731 - accuracy: 0.9214 - val_loss: 0.1599 - val_accuracy: 0.9550\n",
      "Epoch 47/100\n",
      "1399/1399 [==============================] - 2s 2ms/step - loss: 0.1722 - accuracy: 0.9264 - val_loss: 0.1587 - val_accuracy: 0.9550\n",
      "Epoch 48/100\n",
      "1399/1399 [==============================] - 2s 2ms/step - loss: 0.1713 - accuracy: 0.9235 - val_loss: 0.1576 - val_accuracy: 0.9550\n",
      "Epoch 49/100\n",
      "1399/1399 [==============================] - 3s 2ms/step - loss: 0.1703 - accuracy: 0.9264 - val_loss: 0.1565 - val_accuracy: 0.9550\n",
      "Epoch 50/100\n",
      "1399/1399 [==============================] - 3s 2ms/step - loss: 0.1695 - accuracy: 0.9257 - val_loss: 0.1555 - val_accuracy: 0.9550\n",
      "Epoch 51/100\n",
      "1399/1399 [==============================] - 2s 2ms/step - loss: 0.1687 - accuracy: 0.9278 - val_loss: 0.1547 - val_accuracy: 0.9600\n",
      "Epoch 52/100\n",
      "1399/1399 [==============================] - 3s 2ms/step - loss: 0.1681 - accuracy: 0.9235 - val_loss: 0.1536 - val_accuracy: 0.9550\n",
      "Epoch 53/100\n",
      "1399/1399 [==============================] - 2s 2ms/step - loss: 0.1675 - accuracy: 0.9307 - val_loss: 0.1528 - val_accuracy: 0.9600\n",
      "Epoch 54/100\n",
      "1399/1399 [==============================] - 3s 2ms/step - loss: 0.1664 - accuracy: 0.9321 - val_loss: 0.1520 - val_accuracy: 0.9550\n",
      "Epoch 55/100\n",
      "1399/1399 [==============================] - 3s 2ms/step - loss: 0.1663 - accuracy: 0.9271 - val_loss: 0.1511 - val_accuracy: 0.9600\n",
      "Epoch 56/100\n",
      "1399/1399 [==============================] - 3s 2ms/step - loss: 0.1655 - accuracy: 0.9328 - val_loss: 0.1509 - val_accuracy: 0.9600\n"
     ]
    },
    {
     "name": "stdout",
     "output_type": "stream",
     "text": [
      "Epoch 57/100\n",
      "1399/1399 [==============================] - 1s 1ms/step - loss: 0.1652 - accuracy: 0.9292 - val_loss: 0.1497 - val_accuracy: 0.9600\n",
      "Epoch 58/100\n",
      "1399/1399 [==============================] - 2s 1ms/step - loss: 0.1646 - accuracy: 0.9299 - val_loss: 0.1490 - val_accuracy: 0.9600\n",
      "Epoch 59/100\n",
      "1399/1399 [==============================] - 2s 1ms/step - loss: 0.1640 - accuracy: 0.9299 - val_loss: 0.1483 - val_accuracy: 0.9600\n",
      "Epoch 60/100\n",
      "1399/1399 [==============================] - 1s 929us/step - loss: 0.1635 - accuracy: 0.9307 - val_loss: 0.1478 - val_accuracy: 0.9600\n",
      "Epoch 61/100\n",
      "1399/1399 [==============================] - 2s 1ms/step - loss: 0.1633 - accuracy: 0.9299 - val_loss: 0.1471 - val_accuracy: 0.9600\n",
      "Epoch 62/100\n",
      "1399/1399 [==============================] - 2s 2ms/step - loss: 0.1626 - accuracy: 0.9321 - val_loss: 0.1464 - val_accuracy: 0.9650\n",
      "Epoch 63/100\n",
      "1399/1399 [==============================] - 2s 1ms/step - loss: 0.1623 - accuracy: 0.9299 - val_loss: 0.1457 - val_accuracy: 0.9650\n",
      "Epoch 64/100\n",
      "1399/1399 [==============================] - 2s 1ms/step - loss: 0.1620 - accuracy: 0.9299 - val_loss: 0.1452 - val_accuracy: 0.9650\n",
      "Epoch 65/100\n",
      "1399/1399 [==============================] - 2s 2ms/step - loss: 0.1614 - accuracy: 0.9307 - val_loss: 0.1453 - val_accuracy: 0.9600\n",
      "Epoch 66/100\n",
      "1399/1399 [==============================] - 2s 1ms/step - loss: 0.1611 - accuracy: 0.9314 - val_loss: 0.1441 - val_accuracy: 0.9650\n",
      "Epoch 67/100\n",
      "1399/1399 [==============================] - 2s 1ms/step - loss: 0.1608 - accuracy: 0.9328 - val_loss: 0.1436 - val_accuracy: 0.9650\n",
      "Epoch 68/100\n",
      "1399/1399 [==============================] - 2s 1ms/step - loss: 0.1607 - accuracy: 0.9307 - val_loss: 0.1432 - val_accuracy: 0.9650\n",
      "Epoch 69/100\n",
      "1399/1399 [==============================] - 2s 1ms/step - loss: 0.1605 - accuracy: 0.9321 - val_loss: 0.1427 - val_accuracy: 0.9650\n",
      "Epoch 70/100\n",
      "1399/1399 [==============================] - 2s 1ms/step - loss: 0.1602 - accuracy: 0.9321 - val_loss: 0.1426 - val_accuracy: 0.9650\n",
      "Epoch 71/100\n",
      "1399/1399 [==============================] - 2s 1ms/step - loss: 0.1594 - accuracy: 0.9328 - val_loss: 0.1417 - val_accuracy: 0.9650\n",
      "Epoch 72/100\n",
      "1399/1399 [==============================] - 2s 1ms/step - loss: 0.1593 - accuracy: 0.9328 - val_loss: 0.1417 - val_accuracy: 0.9650\n",
      "Epoch 73/100\n",
      "1399/1399 [==============================] - 2s 1ms/step - loss: 0.1591 - accuracy: 0.9342 - val_loss: 0.1412 - val_accuracy: 0.9650\n",
      "Epoch 74/100\n",
      "1399/1399 [==============================] - 2s 1ms/step - loss: 0.1588 - accuracy: 0.9321 - val_loss: 0.1407 - val_accuracy: 0.9650\n",
      "Epoch 75/100\n",
      "1399/1399 [==============================] - 2s 1ms/step - loss: 0.1587 - accuracy: 0.9335 - val_loss: 0.1402 - val_accuracy: 0.9650\n",
      "Epoch 76/100\n",
      "1399/1399 [==============================] - 2s 1ms/step - loss: 0.1585 - accuracy: 0.9335 - val_loss: 0.1396 - val_accuracy: 0.9650\n",
      "Epoch 77/100\n",
      "1399/1399 [==============================] - 2s 1ms/step - loss: 0.1581 - accuracy: 0.9335 - val_loss: 0.1392 - val_accuracy: 0.9650\n",
      "Epoch 78/100\n",
      "1399/1399 [==============================] - 2s 1ms/step - loss: 0.1579 - accuracy: 0.9328 - val_loss: 0.1394 - val_accuracy: 0.9650\n",
      "Epoch 79/100\n",
      "1399/1399 [==============================] - 2s 1ms/step - loss: 0.1577 - accuracy: 0.9328 - val_loss: 0.1390 - val_accuracy: 0.9650\n",
      "Epoch 80/100\n",
      "1399/1399 [==============================] - 2s 1ms/step - loss: 0.1579 - accuracy: 0.9342 - val_loss: 0.1387 - val_accuracy: 0.9650\n",
      "Epoch 81/100\n",
      "1399/1399 [==============================] - 2s 1ms/step - loss: 0.1574 - accuracy: 0.9357 - val_loss: 0.1378 - val_accuracy: 0.9650\n",
      "Epoch 82/100\n",
      "1399/1399 [==============================] - 2s 1ms/step - loss: 0.1573 - accuracy: 0.9335 - val_loss: 0.1377 - val_accuracy: 0.9650\n",
      "Epoch 83/100\n",
      "1399/1399 [==============================] - 2s 1ms/step - loss: 0.1572 - accuracy: 0.9321 - val_loss: 0.1374 - val_accuracy: 0.9650\n",
      "Epoch 84/100\n",
      "1399/1399 [==============================] - 2s 1ms/step - loss: 0.1569 - accuracy: 0.9321 - val_loss: 0.1370 - val_accuracy: 0.9650\n",
      "Epoch 85/100\n",
      "1399/1399 [==============================] - 2s 1ms/step - loss: 0.1567 - accuracy: 0.9321 - val_loss: 0.1369 - val_accuracy: 0.9650\n",
      "Epoch 86/100\n",
      "1399/1399 [==============================] - 2s 1ms/step - loss: 0.1567 - accuracy: 0.9335 - val_loss: 0.1364 - val_accuracy: 0.9650\n",
      "Epoch 87/100\n",
      "1399/1399 [==============================] - 2s 1ms/step - loss: 0.1563 - accuracy: 0.9314 - val_loss: 0.1364 - val_accuracy: 0.9650\n",
      "Epoch 88/100\n",
      "1399/1399 [==============================] - 2s 1ms/step - loss: 0.1563 - accuracy: 0.9328 - val_loss: 0.1359 - val_accuracy: 0.9650\n",
      "Epoch 89/100\n",
      "1399/1399 [==============================] - 2s 1ms/step - loss: 0.1562 - accuracy: 0.9335 - val_loss: 0.1358 - val_accuracy: 0.9650\n",
      "Epoch 90/100\n",
      "1399/1399 [==============================] - 2s 1ms/step - loss: 0.1561 - accuracy: 0.9342 - val_loss: 0.1357 - val_accuracy: 0.9650\n",
      "Epoch 91/100\n",
      "1399/1399 [==============================] - 2s 1ms/step - loss: 0.1557 - accuracy: 0.9335 - val_loss: 0.1350 - val_accuracy: 0.9700\n",
      "Epoch 92/100\n",
      "1399/1399 [==============================] - 2s 1ms/step - loss: 0.1558 - accuracy: 0.9342 - val_loss: 0.1347 - val_accuracy: 0.9700\n",
      "Epoch 93/100\n",
      "1399/1399 [==============================] - 2s 1ms/step - loss: 0.1555 - accuracy: 0.9350 - val_loss: 0.1351 - val_accuracy: 0.9650\n",
      "Epoch 94/100\n",
      "1399/1399 [==============================] - 2s 1ms/step - loss: 0.1556 - accuracy: 0.9335 - val_loss: 0.1346 - val_accuracy: 0.9700\n",
      "Epoch 95/100\n",
      "1399/1399 [==============================] - 2s 1ms/step - loss: 0.1554 - accuracy: 0.9342 - val_loss: 0.1339 - val_accuracy: 0.9700\n",
      "Epoch 96/100\n",
      "1399/1399 [==============================] - 2s 1ms/step - loss: 0.1554 - accuracy: 0.9335 - val_loss: 0.1340 - val_accuracy: 0.9700\n",
      "Epoch 97/100\n",
      "1399/1399 [==============================] - 2s 1ms/step - loss: 0.1551 - accuracy: 0.9328 - val_loss: 0.1344 - val_accuracy: 0.9600\n",
      "Epoch 98/100\n",
      "1399/1399 [==============================] - 2s 1ms/step - loss: 0.1551 - accuracy: 0.9335 - val_loss: 0.1336 - val_accuracy: 0.9700\n",
      "Epoch 99/100\n",
      "1399/1399 [==============================] - 2s 1ms/step - loss: 0.1550 - accuracy: 0.9342 - val_loss: 0.1334 - val_accuracy: 0.9700\n",
      "Epoch 100/100\n",
      "1399/1399 [==============================] - 2s 1ms/step - loss: 0.1548 - accuracy: 0.9328 - val_loss: 0.1329 - val_accuracy: 0.9700\n"
     ]
    }
   ],
   "source": [
    "# Fitting the ANN to the training set\n",
    "history1=model2.fit(x_train, y_train, validation_data=(x_val, y_val), batch_size = 4, epochs = 100)"
   ]
  },
  {
   "cell_type": "code",
   "execution_count": 184,
   "metadata": {},
   "outputs": [
    {
     "data": {
      "image/png": "[encoded data removed]",
      "text/plain": [
       "<Figure size 432x288 with 1 Axes>"
      ]
     },
     "metadata": {
      "needs_background": "light"
     },
     "output_type": "display_data"
    },
    {
     "data": {
      "image/png": "[encoded data removed]",
      "text/plain": [
       "<Figure size 432x288 with 1 Axes>"
      ]
     },
     "metadata": {
      "needs_background": "light"
     },
     "output_type": "display_data"
    }
   ],
   "source": [
    "import matplotlib.pyplot as plt\n",
    "plt.plot(history1.history['accuracy'])\n",
    "plt.plot(history1.history['val_accuracy'])\n",
    "plt.title('model accuracy')\n",
    "plt.ylabel('accuracy')\n",
    "plt.xlabel('epoch')\n",
    "plt.legend(['train', 'validation'], loc='upper left')\n",
    "plt.show()\n",
    "# \"Loss\"\n",
    "plt.plot(history1.history['loss'])\n",
    "plt.plot(history1.history['val_loss'])\n",
    "plt.title('model loss')\n",
    "plt.ylabel('loss')\n",
    "plt.xlabel('epoch')\n",
    "plt.legend(['train', 'validation'], loc='upper left')\n",
    "plt.show()"
   ]
  },
  {
   "cell_type": "code",
   "execution_count": 185,
   "metadata": {},
   "outputs": [
    {
     "data": {
      "text/plain": [
       "0.9526184538653366"
      ]
     },
     "execution_count": 185,
     "metadata": {},
     "output_type": "execute_result"
    }
   ],
   "source": [
    "# Test Accuracy for laon dataset\n",
    "test_predict=model2.predict(x_test)\n",
    "#print(test_predict)\n",
    "test_predict = (test_predict > 0.5)\n",
    "from sklearn.metrics import confusion_matrix\n",
    "cm = confusion_matrix(y_test, test_predict)\n",
    "accuracy = (cm[0][0]+cm[1][1])/(cm[0][0]+cm[0][1]+cm[1][0]+cm[1][1])\n",
    "accuracy"
   ]
  },
  {
   "cell_type": "code",
   "execution_count": 186,
   "metadata": {},
   "outputs": [
    {
     "data": {
      "text/plain": [
       "0.97"
      ]
     },
     "execution_count": 186,
     "metadata": {},
     "output_type": "execute_result"
    }
   ],
   "source": [
    "# Valdation accuracy for laon dataset\n",
    "val_predict=model2.predict(x_val)\n",
    "#print(test_predict)\n",
    "val_predict = (val_predict > 0.5)\n",
    "from sklearn.metrics import confusion_matrix\n",
    "cm = confusion_matrix(y_val, val_predict)\n",
    "accuracy = (cm[0][0]+cm[1][1])/(cm[0][0]+cm[0][1]+cm[1][0]+cm[1][1])\n",
    "accuracy"
   ]
  },
  {
   "cell_type": "markdown",
   "metadata": {},
   "source": [
    "# Regression Model"
   ]
  },
  {
   "cell_type": "code",
   "execution_count": 187,
   "metadata": {},
   "outputs": [
    {
     "data": {
      "text/plain": [
       "LogisticRegression(C=1.0, class_weight=None, dual=False, fit_intercept=True,\n",
       "                   intercept_scaling=1, l1_ratio=None, max_iter=100,\n",
       "                   multi_class='auto', n_jobs=None, penalty='l2',\n",
       "                   random_state=None, solver='lbfgs', tol=0.0001, verbose=0,\n",
       "                   warm_start=False)"
      ]
     },
     "execution_count": 187,
     "metadata": {},
     "output_type": "execute_result"
    }
   ],
   "source": [
    "from sklearn.linear_model import LogisticRegression\n",
    "from sklearn import metrics\n",
    " \n",
    "model3 = LogisticRegression()\n",
    "model3.fit(x_train, y_train)"
   ]
  },
  {
   "cell_type": "code",
   "execution_count": 188,
   "metadata": {},
   "outputs": [
    {
     "name": "stdout",
     "output_type": "stream",
     "text": [
      "0.9476309226932669\n"
     ]
    }
   ],
   "source": [
    "# Test data accuracy against loan dataset\n",
    "pred=model3.predict(x_test)\n",
    "# Print the prediction accuracy\n",
    "print (metrics.accuracy_score(y_test, pred))"
   ]
  },
  {
   "cell_type": "code",
   "execution_count": 189,
   "metadata": {},
   "outputs": [
    {
     "name": "stdout",
     "output_type": "stream",
     "text": [
      "0.945\n"
     ]
    }
   ],
   "source": [
    "# Validation data accuracy against loan dataset\n",
    "pred=model3.predict(x_val)\n",
    "# Print the prediction accuracy\n",
    "print (metrics.accuracy_score(y_val, pred))"
   ]
  },
  {
   "cell_type": "markdown",
   "metadata": {},
   "source": [
    "# What was the purpose of this assignment? What can you do now as a result of accomplishing it?"
   ]
  },
  {
   "cell_type": "markdown",
   "metadata": {},
   "source": [
    "##### The purpose of this assignment is to analyze the effect of different features in the dataset. Changing the last five value of the known value column increase the accuracy of the model because now the probiblity of both 0 and 1 are equally same. Regression model result are less then classification result."
   ]
  },
  {
   "cell_type": "code",
   "execution_count": null,
   "metadata": {},
   "outputs": [],
   "source": []
  }
 ],
 "metadata": {
  "kernelspec": {
   "display_name": "Python 3",
   "language": "python",
   "name": "python3"
  },
  "language_info": {
   "codemirror_mode": {
    "name": "ipython",
    "version": 3
   },
   "file_extension": ".py",
   "mimetype": "text/x-python",
   "name": "python",
   "nbconvert_exporter": "python",
   "pygments_lexer": "ipython3",
   "version": "3.7.6"
  }
 },
 "nbformat": 4,
 "nbformat_minor": 4
}
